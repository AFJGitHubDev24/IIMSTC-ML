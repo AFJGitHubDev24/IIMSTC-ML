{
 "cells": [
  {
   "cell_type": "code",
   "execution_count": 3,
   "metadata": {},
   "outputs": [
    {
     "name": "stdout",
     "output_type": "stream",
     "text": [
      "CSV file saved at output1.csv\n"
     ]
    }
   ],
   "source": [
    "import struct \n",
    "import pandas as pd \n",
    "\n",
    "# File paths \n",
    "binary_file = r\"calib_irr_020.prn\" \n",
    "output_csv = r\"output1.csv\" \n",
    "\n",
    " # Function to parse binary data \n",
    "def binary_to_csv(binary_file, output_csv): \n",
    "    data = [] \n",
    "    with open(binary_file, 'rb') as file: \n",
    "        while chunk := file.read(8):  # Assuming each value is a float (4 bytes) and we have two per row (8 bytes) \n",
    "            try: \n",
    "                # Unpack two floats (4 bytes each) per row \n",
    "                frequency, spectrum = struct.unpack('ff', chunk) \n",
    "                data.append({\"frequency (Hz)\": frequency, \"m**2/Hz\": spectrum}) \n",
    "            except struct.error: \n",
    "                # Handle any incomplete chunks \n",
    "                break \n",
    "\n",
    "  # Convert to DataFrame and save to CSV \n",
    "    df = pd.DataFrame(data) \n",
    "    df.to_csv(output_csv, index=False) \n",
    "    print(f\"CSV file saved at {output_csv}\") \n",
    "\n",
    "\n",
    "# Execute the function \n",
    "binary_to_csv(binary_file, output_csv) \n",
    "\n",
    " "
   ]
  },
  {
   "cell_type": "code",
   "execution_count": 5,
   "metadata": {},
   "outputs": [],
   "source": [
    "# Note: Looking for furnishing a clear output! So don't refer this code till yet\n",
    "# Well, this is the same code copy-pasted from the file 'rough.txt'"
   ]
  }
 ],
 "metadata": {
  "kernelspec": {
   "display_name": "Python 3",
   "language": "python",
   "name": "python3"
  },
  "language_info": {
   "codemirror_mode": {
    "name": "ipython",
    "version": 3
   },
   "file_extension": ".py",
   "mimetype": "text/x-python",
   "name": "python",
   "nbconvert_exporter": "python",
   "pygments_lexer": "ipython3",
   "version": "3.12.7"
  }
 },
 "nbformat": 4,
 "nbformat_minor": 2
}
