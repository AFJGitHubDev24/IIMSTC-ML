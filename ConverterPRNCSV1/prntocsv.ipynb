{
 "cells": [
  {
   "cell_type": "code",
   "execution_count": 1,
   "metadata": {},
   "outputs": [],
   "source": [
    "# Import necessary libraries\n",
    "# type: ignore\n",
    "import matplotlib.pyplot as plt\n",
    "import numpy as np\n",
    "import pandas as pd"
   ]
  },
  {
   "cell_type": "code",
   "execution_count": 2,
   "metadata": {},
   "outputs": [],
   "source": [
    "# Define the paths\n",
    "def extract_data_from_plot(image_path_or_buffer):\n",
    "    \"\"\"\n",
    "    Extracts x and y data from a plot image.\n",
    "\n",
    "    Args:\n",
    "        image_path_or_buffer: Path to the image file or a file-like object.\n",
    "\n",
    "    Returns:\n",
    "        pandas.DataFrame: A DataFrame with 'frequency (Hz)' and 'm**2/Hz' columns, or None if extraction fails.\n",
    "        str: Any warning or error message encountered during extraction.\n",
    "    \"\"\"\n",
    "    try:\n",
    "        # Load the image using matplotlib\n",
    "        img = plt.imread(image_path_or_buffer)\n",
    "\n",
    "        # Convert the image to grayscale (if it's not already)\n",
    "        if img.ndim == 3:\n",
    "            img = np.mean(img[..., :3], axis=2)\n",
    "\n",
    "        # Find the coordinates of the plot line (assuming it's the darkest part)\n",
    "        y_indices, x_indices = np.where(img < np.percentile(img, 20)) #adjust percentile if needed\n",
    "\n",
    "        # Extract x and y values based on pixel positions and axis limits\n",
    "        # These values were obtained by manually inspecting the image.\n",
    "        x_min, x_max = 0, 1\n",
    "        y_min, y_max = 0, 3.5\n",
    "\n",
    "        x_values = np.interp(x_indices, [0, img.shape[1]], [x_min, x_max])\n",
    "        y_values = np.interp(img.shape[0]-y_indices, [0, img.shape[0]], [y_min, y_max]) #Invert y-axis\n",
    "\n",
    "        # Create a DataFrame\n",
    "        df = pd.DataFrame({'frequency (Hz)': x_values, 'm**2/Hz': y_values})\n",
    "\n",
    "        # Remove duplicate x values, keeping the first occurence. This helps in cleaning up noise.\n",
    "        df = df.drop_duplicates(subset='frequency (Hz)', keep='first')\n",
    "\n",
    "        #Sort values by frequency\n",
    "        df = df.sort_values(by='frequency (Hz)')\n",
    "\n",
    "        return df, \"\"\n",
    "\n",
    "    except FileNotFoundError:\n",
    "        return None, \"Image file not found.\"\n",
    "    except Exception as e:\n",
    "        return None, f\"An error occurred: {e}\"\n"
   ]
  },
  {
   "cell_type": "code",
   "execution_count": 3,
   "metadata": {},
   "outputs": [
    {
     "name": "stdout",
     "output_type": "stream",
     "text": [
      "Data extracted and saved to calib_irr_011.csv\n"
     ]
    }
   ],
   "source": [
    "# Example usage:\n",
    "image_file = \"calib_irr_011.png\"  # Replace with the actual image file path\n",
    "df, message = extract_data_from_plot(image_file)\n",
    "\n",
    "if df is not None:\n",
    "    csv_file = \"calib_irr_011.csv\"\n",
    "    df.to_csv(csv_file, index=False)\n",
    "    print(f\"Data extracted and saved to {csv_file}\")\n",
    "elif message:\n",
    "    print(f\"Error: {message}\")\n",
    "else:\n",
    "    print(\"Unknown error occurred.\")"
   ]
  },
  {
   "cell_type": "code",
   "execution_count": 4,
   "metadata": {},
   "outputs": [],
   "source": [
    "# Note: Adjust the names of the files to both image_file and csv_file, x-axis and y-axis in this page itself (as new files are arrived)"
   ]
  }
 ],
 "metadata": {
  "kernelspec": {
   "display_name": "Python 3",
   "language": "python",
   "name": "python3"
  },
  "language_info": {
   "codemirror_mode": {
    "name": "ipython",
    "version": 3
   },
   "file_extension": ".py",
   "mimetype": "text/x-python",
   "name": "python",
   "nbconvert_exporter": "python",
   "pygments_lexer": "ipython3",
   "version": "3.12.7"
  }
 },
 "nbformat": 4,
 "nbformat_minor": 2
}
