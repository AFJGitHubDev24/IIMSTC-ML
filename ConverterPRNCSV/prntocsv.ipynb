{
 "cells": [
  {
   "cell_type": "code",
   "execution_count": null,
   "metadata": {},
   "outputs": [],
   "source": [
    "import csv\n",
    "\n",
    "def prn_to_csv(prn_file, csv_file):\n",
    "    # Converts a PRN file to CSV format.\n",
    "\n",
    "    with open(prn_file, 'r') as prn, open(csv_file, 'w', newline='') as csv_out:\n",
    "        reader = csv.reader(prn, delimiter=' ', skipinitialspace=True)\n",
    "        writer = csv.writer(csv_out)\n",
    "\n",
    "        for row in reader:\n",
    "            writer.writerow(row)\n",
    "\n",
    "if __name__ == '__main__':\n",
    "    prn_file = 'calib_irr_001.prn'\n",
    "    csv_file = 'calib_irr_001.csv'\n",
    "    prn_to_csv(prn_file, csv_file)"
   ]
  }
 ],
 "metadata": {
  "kernelspec": {
   "display_name": "Python 3",
   "language": "python",
   "name": "python3"
  },
  "language_info": {
   "codemirror_mode": {
    "name": "ipython",
    "version": 3
   },
   "file_extension": ".py",
   "mimetype": "text/x-python",
   "name": "python",
   "nbconvert_exporter": "python",
   "pygments_lexer": "ipython3",
   "version": "3.12.7"
  }
 },
 "nbformat": 4,
 "nbformat_minor": 2
}
