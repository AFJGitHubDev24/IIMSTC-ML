{
 "cells": [
  {
   "cell_type": "code",
   "execution_count": 24,
   "metadata": {},
   "outputs": [],
   "source": [
    "# Import necessary libraries\n",
    "import struct\n",
    "import pandas as pd"
   ]
  },
  {
   "cell_type": "code",
   "execution_count": 25,
   "metadata": {},
   "outputs": [],
   "source": [
    "# Define the paths\n",
    "prn_file = r\"C:\\IIMSTC-ML\\IIMSTC-ML\\ConverterPRNCSV\\calib_irr_001.prn\"\n",
    "csv_file = r\"C:\\IIMSTC-ML\\IIMSTC-ML\\ConverterPRNCSV\\calib_irr_001.csv\""
   ]
  },
  {
   "cell_type": "code",
   "execution_count": 26,
   "metadata": {},
   "outputs": [],
   "source": [
    "# Read binary data and parse \n",
    "data = []\n",
    "with open(prn_file, 'rb') as file:\n",
    "    while chunk := file.read(16): # Eg: Read in chunks of 16 bytes\n",
    "        try:\n",
    "            # Adjust the struct format string as needed\n",
    "            values = struct.unpack('4f', chunk) # 4 floats per line\n",
    "            data.append(values)\n",
    "        except struct.error:\n",
    "            break"
   ]
  },
  {
   "cell_type": "code",
   "execution_count": 27,
   "metadata": {},
   "outputs": [],
   "source": [
    "# Convert to DataFrame\n",
    "df = pd.DataFrame(data, columns=[\"Column1\", \"Column2\", \"Column3\", \"Column4\"])"
   ]
  },
  {
   "cell_type": "code",
   "execution_count": 28,
   "metadata": {},
   "outputs": [],
   "source": [
    "# Save to CSV file\n",
    "df.to_csv(csv_file, index=False)"
   ]
  },
  {
   "cell_type": "code",
   "execution_count": 29,
   "metadata": {},
   "outputs": [
    {
     "name": "stdout",
     "output_type": "stream",
     "text": [
      "Corrected CSV file save as C:\\IIMSTC-ML\\IIMSTC-ML\\ConverterPRNCSV\\calib_irr_001.csv\n"
     ]
    }
   ],
   "source": [
    "print(f\"Corrected CSV file save as {csv_file}\")"
   ]
  }
 ],
 "metadata": {
  "kernelspec": {
   "display_name": "Python 3",
   "language": "python",
   "name": "python3"
  },
  "language_info": {
   "codemirror_mode": {
    "name": "ipython",
    "version": 3
   },
   "file_extension": ".py",
   "mimetype": "text/x-python",
   "name": "python",
   "nbconvert_exporter": "python",
   "pygments_lexer": "ipython3",
   "version": "3.12.7"
  }
 },
 "nbformat": 4,
 "nbformat_minor": 2
}
